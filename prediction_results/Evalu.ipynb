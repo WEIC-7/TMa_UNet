{
 "cells": [
  {
   "cell_type": "code",
   "execution_count": 1,
   "id": "e129e2ef-61d6-4e47-b9b1-f210a3030731",
   "metadata": {},
   "outputs": [],
   "source": [
    "import os\n",
    "import numpy as np\n",
    "import nibabel as nib\n",
    "import binary\n",
    "from evaluation import Cal\n"
   ]
  },
  {
   "cell_type": "code",
   "execution_count": 2,
   "id": "89d13a86-bcdb-4b2c-be5b-2f2cde5be028",
   "metadata": {},
   "outputs": [
    {
     "name": "stdout",
     "output_type": "stream",
     "text": [
      "prediction\n",
      "Dice: 0.968950876774968\n",
      "Jaccard: 0.9404697504349058\n",
      "PPV: 1.0\n",
      "HD95_l: 1.0\n",
      "HD95_r: 1.0 \n",
      "——————————分割线——————————\n"
     ]
    }
   ],
   "source": [
    "Base = 'TMa_UNet/'\n",
    "list = os.listdir(Base)\n",
    "paths = [os.path.join(Base,i)for i in list if i != '.ipynb_checkpoints']\n",
    "for i in sorted(paths):\n",
    "    print(i.split('/')[1])\n",
    "    print(Cal(i).Dice())\n",
    "    print(Cal(i).Jaccard())\n",
    "    print(Cal(i).PPV())\n",
    "    print(Cal(i).HD95())    \n",
    "    print('——————————分割线——————————')"
   ]
  },
  {
   "cell_type": "code",
   "execution_count": null,
   "id": "f42422f9-e923-4d19-b322-5cab45075c8c",
   "metadata": {},
   "outputs": [],
   "source": []
  }
 ],
 "metadata": {
  "kernelspec": {
   "display_name": "Python 3 (ipykernel)",
   "language": "python",
   "name": "python3"
  },
  "language_info": {
   "codemirror_mode": {
    "name": "ipython",
    "version": 3
   },
   "file_extension": ".py",
   "mimetype": "text/x-python",
   "name": "python",
   "nbconvert_exporter": "python",
   "pygments_lexer": "ipython3",
   "version": "3.10.10"
  }
 },
 "nbformat": 4,
 "nbformat_minor": 5
}
